{
  "nbformat": 4,
  "nbformat_minor": 0,
  "metadata": {
    "colab": {
      "provenance": [],
      "authorship_tag": "ABX9TyMMiTAxP5BFeWxmqRDBvjHC",
      "include_colab_link": true
    },
    "kernelspec": {
      "name": "python3",
      "display_name": "Python 3"
    },
    "language_info": {
      "name": "python"
    }
  },
  "cells": [
    {
      "cell_type": "markdown",
      "metadata": {
        "id": "view-in-github",
        "colab_type": "text"
      },
      "source": [
        "<a href=\"https://colab.research.google.com/github/jksingh07/AI-Assignment/blob/main/User_Car_Price_Prediction.ipynb\" target=\"_parent\"><img src=\"https://colab.research.google.com/assets/colab-badge.svg\" alt=\"Open In Colab\"/></a>"
      ]
    },
    {
      "cell_type": "code",
      "execution_count": 1,
      "metadata": {
        "colab": {
          "base_uri": "https://localhost:8080/"
        },
        "id": "bfdSQL92WC3c",
        "outputId": "0c8a407a-085c-4316-bdc0-4657b534534c"
      },
      "outputs": [
        {
          "output_type": "stream",
          "name": "stdout",
          "text": [
            "Cloning into 'ontario-used-car-prediction'...\n",
            "remote: Enumerating objects: 24, done.\u001b[K\n",
            "remote: Counting objects: 100% (24/24), done.\u001b[K\n",
            "remote: Compressing objects: 100% (18/18), done.\u001b[K\n",
            "remote: Total 24 (delta 4), reused 18 (delta 1), pack-reused 0\u001b[K\n",
            "Unpacking objects: 100% (24/24), 15.40 MiB | 3.01 MiB/s, done.\n"
          ]
        }
      ],
      "source": [
        "!git clone https://github.com/sarveshpatil1/ontario-used-car-prediction.git"
      ]
    },
    {
      "cell_type": "code",
      "source": [
        "\n",
        "# Import from Google Drive\n",
        "\n",
        "# from google.colab import drive\n",
        "# drive.mount('/gdrive')\n",
        "# %cd /gdrive"
      ],
      "metadata": {
        "id": "SCTEBJ81bfJr"
      },
      "execution_count": 7,
      "outputs": []
    },
    {
      "cell_type": "code",
      "source": [],
      "metadata": {
        "id": "ljhY8CwZf9fB"
      },
      "execution_count": 2,
      "outputs": []
    },
    {
      "cell_type": "code",
      "source": [
        "!ls"
      ],
      "metadata": {
        "colab": {
          "base_uri": "https://localhost:8080/"
        },
        "id": "XVB9CIr4djPB",
        "outputId": "b8307bbc-e764-4c96-963b-4cb9baba5fcb"
      },
      "execution_count": 2,
      "outputs": [
        {
          "output_type": "stream",
          "name": "stdout",
          "text": [
            "ontario-used-car-prediction  sample_data\n"
          ]
        }
      ]
    },
    {
      "cell_type": "code",
      "source": [
        "import pandas as pd\n",
        "import numpy as np\n",
        "import sklearn"
      ],
      "metadata": {
        "id": "InWgL9cBd0Px"
      },
      "execution_count": 3,
      "outputs": []
    },
    {
      "cell_type": "code",
      "source": [
        "filepath = '/content/ontario-used-car-prediction/dummy_car_data.csv'\n",
        "df = pd.read_csv(filepath)"
      ],
      "metadata": {
        "id": "UAG7BJdNd6gf"
      },
      "execution_count": 5,
      "outputs": []
    },
    {
      "cell_type": "code",
      "source": [
        "df.head()"
      ],
      "metadata": {
        "colab": {
          "base_uri": "https://localhost:8080/",
          "height": 429
        },
        "id": "7L04no4xea9W",
        "outputId": "0920fa06-bb92-48d9-e79d-71da20306cab"
      },
      "execution_count": 6,
      "outputs": [
        {
          "output_type": "execute_result",
          "data": {
            "text/plain": [
              "              id                vin     price    miles   stock_no  year  \\\n",
              "0  b39ea795-eca9  19UNC1B01HY800062  179999.0   9966.0    V-P4139  2017   \n",
              "1  026cb5b1-6e3e  19UNC1B02HY800023  179995.0   5988.0  PPAP70374  2017   \n",
              "2  5cd5d5b2-5cc2  19UNC1B02HY800071  168528.0  24242.0     B21085  2017   \n",
              "3  b32473ed-5922  19UNC1B02LY800001  220000.0   6637.0     AP5333  2020   \n",
              "4  ac40c9fc-0676  19UNC1B02LY800001  220000.0   6637.0     AP5333  2020   \n",
              "\n",
              "    make model  trim body_type  ... drivetrain transmission  \\\n",
              "0  Acura   NSX  Base     Coupe  ...        4WD    Automatic   \n",
              "1  Acura   NSX  Base     Coupe  ...        4WD    Automatic   \n",
              "2  Acura   NSX  Base     Coupe  ...        4WD    Automatic   \n",
              "3  Acura   NSX  Base     Coupe  ...        4WD    Automatic   \n",
              "4  Acura   NSX  Base     Coupe  ...        4WD    Automatic   \n",
              "\n",
              "                     fuel_type engine_size  engine_block  \\\n",
              "0  Electric / Premium Unleaded         3.5             V   \n",
              "1  Electric / Premium Unleaded         3.5             V   \n",
              "2  Electric / Premium Unleaded         3.5             V   \n",
              "3  Electric / Premium Unleaded         3.5             V   \n",
              "4  Electric / Premium Unleaded         3.5             V   \n",
              "\n",
              "             seller_name                          street                 city  \\\n",
              "0       edmundston honda                475 Rue Victoria           Edmundston   \n",
              "1  garage daniel lessard  2795 Route-du-prsident-kennedy  Notre-dame-des-pins   \n",
              "2         lougheed acura           1388 Lougheed Highway            Coquitlam   \n",
              "3        drive autogroup          1305 Parkway Suite 600            Pickering   \n",
              "4        acura pickering               575 Kingston Road            Pickering   \n",
              "\n",
              "  state      zip  \n",
              "0    NB  E3V 2K7  \n",
              "1    QC  G0M 1K0  \n",
              "2    BC  V3K 6S4  \n",
              "3    ON  L1V 3P2  \n",
              "4    ON  L1V 3N7  \n",
              "\n",
              "[5 rows x 21 columns]"
            ],
            "text/html": [
              "\n",
              "  <div id=\"df-c1322f26-7428-463c-a00e-14a66f886d07\">\n",
              "    <div class=\"colab-df-container\">\n",
              "      <div>\n",
              "<style scoped>\n",
              "    .dataframe tbody tr th:only-of-type {\n",
              "        vertical-align: middle;\n",
              "    }\n",
              "\n",
              "    .dataframe tbody tr th {\n",
              "        vertical-align: top;\n",
              "    }\n",
              "\n",
              "    .dataframe thead th {\n",
              "        text-align: right;\n",
              "    }\n",
              "</style>\n",
              "<table border=\"1\" class=\"dataframe\">\n",
              "  <thead>\n",
              "    <tr style=\"text-align: right;\">\n",
              "      <th></th>\n",
              "      <th>id</th>\n",
              "      <th>vin</th>\n",
              "      <th>price</th>\n",
              "      <th>miles</th>\n",
              "      <th>stock_no</th>\n",
              "      <th>year</th>\n",
              "      <th>make</th>\n",
              "      <th>model</th>\n",
              "      <th>trim</th>\n",
              "      <th>body_type</th>\n",
              "      <th>...</th>\n",
              "      <th>drivetrain</th>\n",
              "      <th>transmission</th>\n",
              "      <th>fuel_type</th>\n",
              "      <th>engine_size</th>\n",
              "      <th>engine_block</th>\n",
              "      <th>seller_name</th>\n",
              "      <th>street</th>\n",
              "      <th>city</th>\n",
              "      <th>state</th>\n",
              "      <th>zip</th>\n",
              "    </tr>\n",
              "  </thead>\n",
              "  <tbody>\n",
              "    <tr>\n",
              "      <th>0</th>\n",
              "      <td>b39ea795-eca9</td>\n",
              "      <td>19UNC1B01HY800062</td>\n",
              "      <td>179999.0</td>\n",
              "      <td>9966.0</td>\n",
              "      <td>V-P4139</td>\n",
              "      <td>2017</td>\n",
              "      <td>Acura</td>\n",
              "      <td>NSX</td>\n",
              "      <td>Base</td>\n",
              "      <td>Coupe</td>\n",
              "      <td>...</td>\n",
              "      <td>4WD</td>\n",
              "      <td>Automatic</td>\n",
              "      <td>Electric / Premium Unleaded</td>\n",
              "      <td>3.5</td>\n",
              "      <td>V</td>\n",
              "      <td>edmundston honda</td>\n",
              "      <td>475 Rue Victoria</td>\n",
              "      <td>Edmundston</td>\n",
              "      <td>NB</td>\n",
              "      <td>E3V 2K7</td>\n",
              "    </tr>\n",
              "    <tr>\n",
              "      <th>1</th>\n",
              "      <td>026cb5b1-6e3e</td>\n",
              "      <td>19UNC1B02HY800023</td>\n",
              "      <td>179995.0</td>\n",
              "      <td>5988.0</td>\n",
              "      <td>PPAP70374</td>\n",
              "      <td>2017</td>\n",
              "      <td>Acura</td>\n",
              "      <td>NSX</td>\n",
              "      <td>Base</td>\n",
              "      <td>Coupe</td>\n",
              "      <td>...</td>\n",
              "      <td>4WD</td>\n",
              "      <td>Automatic</td>\n",
              "      <td>Electric / Premium Unleaded</td>\n",
              "      <td>3.5</td>\n",
              "      <td>V</td>\n",
              "      <td>garage daniel lessard</td>\n",
              "      <td>2795 Route-du-prsident-kennedy</td>\n",
              "      <td>Notre-dame-des-pins</td>\n",
              "      <td>QC</td>\n",
              "      <td>G0M 1K0</td>\n",
              "    </tr>\n",
              "    <tr>\n",
              "      <th>2</th>\n",
              "      <td>5cd5d5b2-5cc2</td>\n",
              "      <td>19UNC1B02HY800071</td>\n",
              "      <td>168528.0</td>\n",
              "      <td>24242.0</td>\n",
              "      <td>B21085</td>\n",
              "      <td>2017</td>\n",
              "      <td>Acura</td>\n",
              "      <td>NSX</td>\n",
              "      <td>Base</td>\n",
              "      <td>Coupe</td>\n",
              "      <td>...</td>\n",
              "      <td>4WD</td>\n",
              "      <td>Automatic</td>\n",
              "      <td>Electric / Premium Unleaded</td>\n",
              "      <td>3.5</td>\n",
              "      <td>V</td>\n",
              "      <td>lougheed acura</td>\n",
              "      <td>1388 Lougheed Highway</td>\n",
              "      <td>Coquitlam</td>\n",
              "      <td>BC</td>\n",
              "      <td>V3K 6S4</td>\n",
              "    </tr>\n",
              "    <tr>\n",
              "      <th>3</th>\n",
              "      <td>b32473ed-5922</td>\n",
              "      <td>19UNC1B02LY800001</td>\n",
              "      <td>220000.0</td>\n",
              "      <td>6637.0</td>\n",
              "      <td>AP5333</td>\n",
              "      <td>2020</td>\n",
              "      <td>Acura</td>\n",
              "      <td>NSX</td>\n",
              "      <td>Base</td>\n",
              "      <td>Coupe</td>\n",
              "      <td>...</td>\n",
              "      <td>4WD</td>\n",
              "      <td>Automatic</td>\n",
              "      <td>Electric / Premium Unleaded</td>\n",
              "      <td>3.5</td>\n",
              "      <td>V</td>\n",
              "      <td>drive autogroup</td>\n",
              "      <td>1305 Parkway Suite 600</td>\n",
              "      <td>Pickering</td>\n",
              "      <td>ON</td>\n",
              "      <td>L1V 3P2</td>\n",
              "    </tr>\n",
              "    <tr>\n",
              "      <th>4</th>\n",
              "      <td>ac40c9fc-0676</td>\n",
              "      <td>19UNC1B02LY800001</td>\n",
              "      <td>220000.0</td>\n",
              "      <td>6637.0</td>\n",
              "      <td>AP5333</td>\n",
              "      <td>2020</td>\n",
              "      <td>Acura</td>\n",
              "      <td>NSX</td>\n",
              "      <td>Base</td>\n",
              "      <td>Coupe</td>\n",
              "      <td>...</td>\n",
              "      <td>4WD</td>\n",
              "      <td>Automatic</td>\n",
              "      <td>Electric / Premium Unleaded</td>\n",
              "      <td>3.5</td>\n",
              "      <td>V</td>\n",
              "      <td>acura pickering</td>\n",
              "      <td>575 Kingston Road</td>\n",
              "      <td>Pickering</td>\n",
              "      <td>ON</td>\n",
              "      <td>L1V 3N7</td>\n",
              "    </tr>\n",
              "  </tbody>\n",
              "</table>\n",
              "<p>5 rows × 21 columns</p>\n",
              "</div>\n",
              "      <button class=\"colab-df-convert\" onclick=\"convertToInteractive('df-c1322f26-7428-463c-a00e-14a66f886d07')\"\n",
              "              title=\"Convert this dataframe to an interactive table.\"\n",
              "              style=\"display:none;\">\n",
              "        \n",
              "  <svg xmlns=\"http://www.w3.org/2000/svg\" height=\"24px\"viewBox=\"0 0 24 24\"\n",
              "       width=\"24px\">\n",
              "    <path d=\"M0 0h24v24H0V0z\" fill=\"none\"/>\n",
              "    <path d=\"M18.56 5.44l.94 2.06.94-2.06 2.06-.94-2.06-.94-.94-2.06-.94 2.06-2.06.94zm-11 1L8.5 8.5l.94-2.06 2.06-.94-2.06-.94L8.5 2.5l-.94 2.06-2.06.94zm10 10l.94 2.06.94-2.06 2.06-.94-2.06-.94-.94-2.06-.94 2.06-2.06.94z\"/><path d=\"M17.41 7.96l-1.37-1.37c-.4-.4-.92-.59-1.43-.59-.52 0-1.04.2-1.43.59L10.3 9.45l-7.72 7.72c-.78.78-.78 2.05 0 2.83L4 21.41c.39.39.9.59 1.41.59.51 0 1.02-.2 1.41-.59l7.78-7.78 2.81-2.81c.8-.78.8-2.07 0-2.86zM5.41 20L4 18.59l7.72-7.72 1.47 1.35L5.41 20z\"/>\n",
              "  </svg>\n",
              "      </button>\n",
              "      \n",
              "  <style>\n",
              "    .colab-df-container {\n",
              "      display:flex;\n",
              "      flex-wrap:wrap;\n",
              "      gap: 12px;\n",
              "    }\n",
              "\n",
              "    .colab-df-convert {\n",
              "      background-color: #E8F0FE;\n",
              "      border: none;\n",
              "      border-radius: 50%;\n",
              "      cursor: pointer;\n",
              "      display: none;\n",
              "      fill: #1967D2;\n",
              "      height: 32px;\n",
              "      padding: 0 0 0 0;\n",
              "      width: 32px;\n",
              "    }\n",
              "\n",
              "    .colab-df-convert:hover {\n",
              "      background-color: #E2EBFA;\n",
              "      box-shadow: 0px 1px 2px rgba(60, 64, 67, 0.3), 0px 1px 3px 1px rgba(60, 64, 67, 0.15);\n",
              "      fill: #174EA6;\n",
              "    }\n",
              "\n",
              "    [theme=dark] .colab-df-convert {\n",
              "      background-color: #3B4455;\n",
              "      fill: #D2E3FC;\n",
              "    }\n",
              "\n",
              "    [theme=dark] .colab-df-convert:hover {\n",
              "      background-color: #434B5C;\n",
              "      box-shadow: 0px 1px 3px 1px rgba(0, 0, 0, 0.15);\n",
              "      filter: drop-shadow(0px 1px 2px rgba(0, 0, 0, 0.3));\n",
              "      fill: #FFFFFF;\n",
              "    }\n",
              "  </style>\n",
              "\n",
              "      <script>\n",
              "        const buttonEl =\n",
              "          document.querySelector('#df-c1322f26-7428-463c-a00e-14a66f886d07 button.colab-df-convert');\n",
              "        buttonEl.style.display =\n",
              "          google.colab.kernel.accessAllowed ? 'block' : 'none';\n",
              "\n",
              "        async function convertToInteractive(key) {\n",
              "          const element = document.querySelector('#df-c1322f26-7428-463c-a00e-14a66f886d07');\n",
              "          const dataTable =\n",
              "            await google.colab.kernel.invokeFunction('convertToInteractive',\n",
              "                                                     [key], {});\n",
              "          if (!dataTable) return;\n",
              "\n",
              "          const docLinkHtml = 'Like what you see? Visit the ' +\n",
              "            '<a target=\"_blank\" href=https://colab.research.google.com/notebooks/data_table.ipynb>data table notebook</a>'\n",
              "            + ' to learn more about interactive tables.';\n",
              "          element.innerHTML = '';\n",
              "          dataTable['output_type'] = 'display_data';\n",
              "          await google.colab.output.renderOutput(dataTable, element);\n",
              "          const docLink = document.createElement('div');\n",
              "          docLink.innerHTML = docLinkHtml;\n",
              "          element.appendChild(docLink);\n",
              "        }\n",
              "      </script>\n",
              "    </div>\n",
              "  </div>\n",
              "  "
            ]
          },
          "metadata": {},
          "execution_count": 6
        },
        {
          "output_type": "stream",
          "name": "stdout",
          "text": [
            "Warning: Total number of columns (21) exceeds max_columns (20) limiting to first (20) columns.\n"
          ]
        }
      ]
    },
    {
      "cell_type": "code",
      "source": [],
      "metadata": {
        "id": "-8Blk5SbauaV"
      },
      "execution_count": 6,
      "outputs": []
    },
    {
      "cell_type": "code",
      "source": [],
      "metadata": {
        "id": "Bb8tGFUYauaW"
      },
      "execution_count": 6,
      "outputs": []
    },
    {
      "cell_type": "code",
      "source": [],
      "metadata": {
        "id": "rPRkeTTmcE0_"
      },
      "execution_count": 6,
      "outputs": []
    },
    {
      "cell_type": "code",
      "source": [],
      "metadata": {
        "id": "lUMAZ-QOcE1A"
      },
      "execution_count": 6,
      "outputs": []
    },
    {
      "cell_type": "code",
      "source": [
        "\n"
      ],
      "metadata": {
        "id": "XvBG0ROqczQu"
      },
      "execution_count": 7,
      "outputs": []
    },
    {
      "cell_type": "code",
      "source": [],
      "metadata": {
        "id": "tmOxCEVhcsgc"
      },
      "execution_count": 7,
      "outputs": []
    }
  ]
}